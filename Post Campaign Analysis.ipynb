{
 "cells": [
  {
   "cell_type": "code",
   "execution_count": 3,
   "metadata": {},
   "outputs": [],
   "source": [
    "import pandas as pd\n",
    "import numpy as np\n",
    "import matplotlib.pyplot as plt"
   ]
  },
  {
   "cell_type": "code",
   "execution_count": 82,
   "metadata": {},
   "outputs": [],
   "source": [
    "# get campaign dataset ready\n",
    "cp = pd.read_csv('campaign.csv')"
   ]
  },
  {
   "cell_type": "code",
   "execution_count": 5,
   "metadata": {},
   "outputs": [
    {
     "data": {
      "text/plain": [
       "(10022, 10)"
      ]
     },
     "execution_count": 5,
     "metadata": {},
     "output_type": "execute_result"
    }
   ],
   "source": [
    "cp.shape"
   ]
  },
  {
   "cell_type": "code",
   "execution_count": 83,
   "metadata": {},
   "outputs": [
    {
     "data": {
      "text/html": [
       "<div>\n",
       "<style scoped>\n",
       "    .dataframe tbody tr th:only-of-type {\n",
       "        vertical-align: middle;\n",
       "    }\n",
       "\n",
       "    .dataframe tbody tr th {\n",
       "        vertical-align: top;\n",
       "    }\n",
       "\n",
       "    .dataframe thead th {\n",
       "        text-align: right;\n",
       "    }\n",
       "</style>\n",
       "<table border=\"1\" class=\"dataframe\">\n",
       "  <thead>\n",
       "    <tr style=\"text-align: right;\">\n",
       "      <th></th>\n",
       "      <th>user_id</th>\n",
       "      <th>date_served</th>\n",
       "      <th>marketing_channel</th>\n",
       "      <th>test_control</th>\n",
       "      <th>converted</th>\n",
       "      <th>language_preferred</th>\n",
       "      <th>age_group</th>\n",
       "      <th>date_subscribed</th>\n",
       "      <th>date_canceled</th>\n",
       "      <th>is_retained</th>\n",
       "    </tr>\n",
       "  </thead>\n",
       "  <tbody>\n",
       "    <tr>\n",
       "      <th>0</th>\n",
       "      <td>a100000029</td>\n",
       "      <td>1/1/2018</td>\n",
       "      <td>House Ads</td>\n",
       "      <td>personalization</td>\n",
       "      <td>True</td>\n",
       "      <td>English</td>\n",
       "      <td>0-18 years</td>\n",
       "      <td>1/1/2018</td>\n",
       "      <td>NaN</td>\n",
       "      <td>True</td>\n",
       "    </tr>\n",
       "    <tr>\n",
       "      <th>1</th>\n",
       "      <td>a100000030</td>\n",
       "      <td>1/1/2018</td>\n",
       "      <td>House Ads</td>\n",
       "      <td>personalization</td>\n",
       "      <td>True</td>\n",
       "      <td>English</td>\n",
       "      <td>19-24 years</td>\n",
       "      <td>1/1/2018</td>\n",
       "      <td>NaN</td>\n",
       "      <td>True</td>\n",
       "    </tr>\n",
       "    <tr>\n",
       "      <th>2</th>\n",
       "      <td>a100000031</td>\n",
       "      <td>1/1/2018</td>\n",
       "      <td>House Ads</td>\n",
       "      <td>personalization</td>\n",
       "      <td>True</td>\n",
       "      <td>English</td>\n",
       "      <td>24-30 years</td>\n",
       "      <td>1/1/2018</td>\n",
       "      <td>NaN</td>\n",
       "      <td>True</td>\n",
       "    </tr>\n",
       "    <tr>\n",
       "      <th>3</th>\n",
       "      <td>a100000032</td>\n",
       "      <td>1/1/2018</td>\n",
       "      <td>House Ads</td>\n",
       "      <td>personalization</td>\n",
       "      <td>True</td>\n",
       "      <td>English</td>\n",
       "      <td>30-36 years</td>\n",
       "      <td>1/1/2018</td>\n",
       "      <td>NaN</td>\n",
       "      <td>True</td>\n",
       "    </tr>\n",
       "    <tr>\n",
       "      <th>4</th>\n",
       "      <td>a100000033</td>\n",
       "      <td>1/1/2018</td>\n",
       "      <td>House Ads</td>\n",
       "      <td>personalization</td>\n",
       "      <td>True</td>\n",
       "      <td>English</td>\n",
       "      <td>36-45 years</td>\n",
       "      <td>1/1/2018</td>\n",
       "      <td>NaN</td>\n",
       "      <td>True</td>\n",
       "    </tr>\n",
       "  </tbody>\n",
       "</table>\n",
       "</div>"
      ],
      "text/plain": [
       "      user_id date_served marketing_channel     test_control  converted  \\\n",
       "0  a100000029    1/1/2018         House Ads  personalization       True   \n",
       "1  a100000030    1/1/2018         House Ads  personalization       True   \n",
       "2  a100000031    1/1/2018         House Ads  personalization       True   \n",
       "3  a100000032    1/1/2018         House Ads  personalization       True   \n",
       "4  a100000033    1/1/2018         House Ads  personalization       True   \n",
       "\n",
       "  language_preferred    age_group date_subscribed date_canceled is_retained  \n",
       "0            English   0-18 years        1/1/2018           NaN        True  \n",
       "1            English  19-24 years        1/1/2018           NaN        True  \n",
       "2            English  24-30 years        1/1/2018           NaN        True  \n",
       "3            English  30-36 years        1/1/2018           NaN        True  \n",
       "4            English  36-45 years        1/1/2018           NaN        True  "
      ]
     },
     "execution_count": 83,
     "metadata": {},
     "output_type": "execute_result"
    }
   ],
   "source": [
    "# How the raw file is structured\n",
    "cp.head()"
   ]
  },
  {
   "cell_type": "code",
   "execution_count": 7,
   "metadata": {},
   "outputs": [
    {
     "data": {
      "text/html": [
       "<div>\n",
       "<style scoped>\n",
       "    .dataframe tbody tr th:only-of-type {\n",
       "        vertical-align: middle;\n",
       "    }\n",
       "\n",
       "    .dataframe tbody tr th {\n",
       "        vertical-align: top;\n",
       "    }\n",
       "\n",
       "    .dataframe thead th {\n",
       "        text-align: right;\n",
       "    }\n",
       "</style>\n",
       "<table border=\"1\" class=\"dataframe\">\n",
       "  <thead>\n",
       "    <tr style=\"text-align: right;\">\n",
       "      <th></th>\n",
       "      <th>user_id</th>\n",
       "      <th>date_served</th>\n",
       "      <th>marketing_channel</th>\n",
       "      <th>test_control</th>\n",
       "      <th>converted</th>\n",
       "      <th>language_preferred</th>\n",
       "      <th>age_group</th>\n",
       "      <th>date_subscribed</th>\n",
       "      <th>date_canceled</th>\n",
       "      <th>is_retained</th>\n",
       "    </tr>\n",
       "  </thead>\n",
       "  <tbody>\n",
       "    <tr>\n",
       "      <th>count</th>\n",
       "      <td>10022</td>\n",
       "      <td>10021</td>\n",
       "      <td>10022</td>\n",
       "      <td>10022</td>\n",
       "      <td>10022</td>\n",
       "      <td>10022</td>\n",
       "      <td>10022</td>\n",
       "      <td>1856</td>\n",
       "      <td>577</td>\n",
       "      <td>1856</td>\n",
       "    </tr>\n",
       "    <tr>\n",
       "      <th>unique</th>\n",
       "      <td>7294</td>\n",
       "      <td>31</td>\n",
       "      <td>5</td>\n",
       "      <td>2</td>\n",
       "      <td>2</td>\n",
       "      <td>4</td>\n",
       "      <td>7</td>\n",
       "      <td>31</td>\n",
       "      <td>115</td>\n",
       "      <td>2</td>\n",
       "    </tr>\n",
       "    <tr>\n",
       "      <th>top</th>\n",
       "      <td>a100000882</td>\n",
       "      <td>1/15/2018</td>\n",
       "      <td>House Ads</td>\n",
       "      <td>control</td>\n",
       "      <td>False</td>\n",
       "      <td>English</td>\n",
       "      <td>19-24 years</td>\n",
       "      <td>1/16/2018</td>\n",
       "      <td>4/2/2018</td>\n",
       "      <td>True</td>\n",
       "    </tr>\n",
       "    <tr>\n",
       "      <th>freq</th>\n",
       "      <td>12</td>\n",
       "      <td>789</td>\n",
       "      <td>4733</td>\n",
       "      <td>5076</td>\n",
       "      <td>8946</td>\n",
       "      <td>9260</td>\n",
       "      <td>1679</td>\n",
       "      <td>163</td>\n",
       "      <td>15</td>\n",
       "      <td>1279</td>\n",
       "    </tr>\n",
       "  </tbody>\n",
       "</table>\n",
       "</div>"
      ],
      "text/plain": [
       "           user_id date_served marketing_channel test_control converted  \\\n",
       "count        10022       10021             10022        10022     10022   \n",
       "unique        7294          31                 5            2         2   \n",
       "top     a100000882   1/15/2018         House Ads      control     False   \n",
       "freq            12         789              4733         5076      8946   \n",
       "\n",
       "       language_preferred    age_group date_subscribed date_canceled  \\\n",
       "count               10022        10022            1856           577   \n",
       "unique                  4            7              31           115   \n",
       "top               English  19-24 years       1/16/2018      4/2/2018   \n",
       "freq                 9260         1679             163            15   \n",
       "\n",
       "       is_retained  \n",
       "count         1856  \n",
       "unique           2  \n",
       "top           True  \n",
       "freq          1279  "
      ]
     },
     "execution_count": 7,
     "metadata": {},
     "output_type": "execute_result"
    }
   ],
   "source": [
    "# Summary of each column\n",
    "cp.describe()"
   ]
  },
  {
   "cell_type": "code",
   "execution_count": 8,
   "metadata": {},
   "outputs": [
    {
     "name": "stdout",
     "output_type": "stream",
     "text": [
      "<class 'pandas.core.frame.DataFrame'>\n",
      "RangeIndex: 10022 entries, 0 to 10021\n",
      "Data columns (total 10 columns):\n",
      " #   Column              Non-Null Count  Dtype \n",
      "---  ------              --------------  ----- \n",
      " 0   user_id             10022 non-null  object\n",
      " 1   date_served         10021 non-null  object\n",
      " 2   marketing_channel   10022 non-null  object\n",
      " 3   test_control        10022 non-null  object\n",
      " 4   converted           10022 non-null  bool  \n",
      " 5   language_preferred  10022 non-null  object\n",
      " 6   age_group           10022 non-null  object\n",
      " 7   date_subscribed     1856 non-null   object\n",
      " 8   date_canceled       577 non-null    object\n",
      " 9   is_retained         1856 non-null   object\n",
      "dtypes: bool(1), object(9)\n",
      "memory usage: 714.6+ KB\n"
     ]
    }
   ],
   "source": [
    "# datatype\n",
    "cp.info()"
   ]
  },
  {
   "cell_type": "markdown",
   "metadata": {},
   "source": [
    "#### *For the columns 'date_subscibed', 'date_canceled', and 'is_retained', there are only 1856, 577 and 1856 non-null objects respectively, which means, for a major part of the dataset, these values do not have records. We will mention this again in the convertaion rate and retention rate analysis*  ####"
   ]
  },
  {
   "cell_type": "markdown",
   "metadata": {},
   "source": [
    "# Campaign Result Overview"
   ]
  },
  {
   "cell_type": "markdown",
   "metadata": {},
   "source": [
    "### **0. basic campaign info**"
   ]
  },
  {
   "cell_type": "code",
   "execution_count": 56,
   "metadata": {},
   "outputs": [
    {
     "data": {
      "text/plain": [
       "7294"
      ]
     },
     "execution_count": 56,
     "metadata": {},
     "output_type": "execute_result"
    }
   ],
   "source": [
    "# Total number of users who received the offer\n",
    "total_users = cp['user_id'].nunique()\n",
    "total_users"
   ]
  },
  {
   "cell_type": "markdown",
   "metadata": {},
   "source": [
    "### **1. Channel Analysis**"
   ]
  },
  {
   "cell_type": "code",
   "execution_count": 10,
   "metadata": {},
   "outputs": [
    {
     "data": {
      "text/plain": [
       "House Ads    4733\n",
       "Instagram    1871\n",
       "Facebook     1860\n",
       "Push          993\n",
       "Email         565\n",
       "Name: marketing_channel, dtype: int64"
      ]
     },
     "execution_count": 10,
     "metadata": {},
     "output_type": "execute_result"
    }
   ],
   "source": [
    "# Channels involved in the campaign in the order of size of traffic\n",
    "    # size of traffic: reveals how many people reached your campaign through this channel\n",
    "marketing_channels=cp['marketing_channel'].value_counts()\n",
    "marketing_channels"
   ]
  },
  {
   "cell_type": "code",
   "execution_count": 11,
   "metadata": {},
   "outputs": [
    {
     "data": {
      "text/plain": [
       "{'House Ads': 4733,\n",
       " 'Instagram': 1871,\n",
       " 'Facebook': 1860,\n",
       " 'Push': 993,\n",
       " 'Email': 565}"
      ]
     },
     "execution_count": 11,
     "metadata": {},
     "output_type": "execute_result"
    }
   ],
   "source": [
    "marketing_channels_dict = marketing_channels.to_dict()\n",
    "marketing_channels_dict "
   ]
  },
  {
   "cell_type": "code",
   "execution_count": 12,
   "metadata": {},
   "outputs": [
    {
     "data": {
      "image/png": "[encoded data removed]",
      "text/plain": [
       "<Figure size 360x360 with 1 Axes>"
      ]
     },
     "metadata": {},
     "output_type": "display_data"
    }
   ],
   "source": [
    "# Percentage of each channel and the visialization\n",
    "labels = list(marketing_channels_dict.keys())\n",
    "sizes = list(marketing_channels_dict.values())\n",
    "    \n",
    "fig, ax = plt.subplots(figsize = (5,5))\n",
    "wedges, texts, autotexts = ax.pie(sizes,\n",
    "                                 autopct = '%1.1f%%',\n",
    "                                 labels=labels,\n",
    "                                 startangle = 90\n",
    "                                 )\n",
    "ax.axis('equal')\n",
    "\n",
    "plt.show()"
   ]
  },
  {
   "cell_type": "markdown",
   "metadata": {},
   "source": [
    "### **2. Daily Active Users Trend**"
   ]
  },
  {
   "cell_type": "code",
   "execution_count": 13,
   "metadata": {},
   "outputs": [
    {
     "data": {
      "text/plain": [
       "date_served\n",
       "1/1/2018     362\n",
       "1/10/2018    337\n",
       "1/11/2018    310\n",
       "1/12/2018    301\n",
       "1/13/2018    306\n",
       "1/14/2018    305\n",
       "1/15/2018    767\n",
       "1/16/2018    388\n",
       "1/17/2018    369\n",
       "1/18/2018    318\n",
       "1/19/2018    305\n",
       "1/2/2018     374\n",
       "1/20/2018    311\n",
       "1/21/2018    229\n",
       "1/22/2018    178\n",
       "1/23/2018    172\n",
       "1/24/2018    190\n",
       "1/25/2018    184\n",
       "1/26/2018    222\n",
       "1/27/2018    320\n",
       "1/28/2018    320\n",
       "1/29/2018    319\n",
       "1/3/2018     348\n",
       "1/30/2018    317\n",
       "1/31/2018    340\n",
       "1/4/2018     323\n",
       "1/5/2018     319\n",
       "1/6/2018     308\n",
       "1/7/2018     275\n",
       "1/8/2018     312\n",
       "1/9/2018     312\n",
       "Name: user_id, dtype: int64"
      ]
     },
     "execution_count": 13,
     "metadata": {},
     "output_type": "execute_result"
    }
   ],
   "source": [
    "daily_users = cp.groupby(['date_served'])['user_id'].nunique()\n",
    "daily_users"
   ]
  },
  {
   "cell_type": "code",
   "execution_count": 14,
   "metadata": {},
   "outputs": [
    {
     "data": {
      "image/png": "[encoded data removed]",
      "text/plain": [
       "<Figure size 432x288 with 1 Axes>"
      ]
     },
     "metadata": {
      "needs_background": "light"
     },
     "output_type": "display_data"
    }
   ],
   "source": [
    "daily_users.plot()\n",
    "\n",
    "plt.title('daily number of users seeing the ads')\n",
    "plt.xlabel('Date')\n",
    "plt.ylabel('Number of users')\n",
    "plt.show()"
   ]
  },
  {
   "cell_type": "markdown",
   "metadata": {},
   "source": [
    "### **3. Conversion Rate**\n",
    "Conversion Rate = Total number of people who converted / Total number of people who received offers"
   ]
  },
  {
   "cell_type": "markdown",
   "metadata": {},
   "source": [
    ">**Total Conversion**"
   ]
  },
  {
   "cell_type": "code",
   "execution_count": 15,
   "metadata": {},
   "outputs": [
    {
     "data": {
      "text/plain": [
       "7294"
      ]
     },
     "execution_count": 15,
     "metadata": {},
     "output_type": "execute_result"
    }
   ],
   "source": [
    "# Toal number of users engaged in the campaign\n",
    "cp['user_id'].nunique()"
   ]
  },
  {
   "cell_type": "code",
   "execution_count": 16,
   "metadata": {},
   "outputs": [
    {
     "name": "stdout",
     "output_type": "stream",
     "text": [
      "<class 'pandas.core.frame.DataFrame'>\n",
      "RangeIndex: 10022 entries, 0 to 10021\n",
      "Data columns (total 10 columns):\n",
      " #   Column              Non-Null Count  Dtype \n",
      "---  ------              --------------  ----- \n",
      " 0   user_id             10022 non-null  object\n",
      " 1   date_served         10021 non-null  object\n",
      " 2   marketing_channel   10022 non-null  object\n",
      " 3   test_control        10022 non-null  object\n",
      " 4   converted           10022 non-null  bool  \n",
      " 5   language_preferred  10022 non-null  object\n",
      " 6   age_group           10022 non-null  object\n",
      " 7   date_subscribed     1856 non-null   object\n",
      " 8   date_canceled       577 non-null    object\n",
      " 9   is_retained         1856 non-null   object\n",
      "dtypes: bool(1), object(9)\n",
      "memory usage: 714.6+ KB\n"
     ]
    }
   ],
   "source": [
    "# Check for missing values\n",
    "cp.info()"
   ]
  },
  {
   "cell_type": "code",
   "execution_count": 17,
   "metadata": {},
   "outputs": [
    {
     "data": {
      "text/plain": [
       "user_id                  0\n",
       "date_served              1\n",
       "marketing_channel        0\n",
       "test_control             0\n",
       "converted                0\n",
       "language_preferred       0\n",
       "age_group                0\n",
       "date_subscribed       8166\n",
       "date_canceled         9445\n",
       "is_retained           8166\n",
       "dtype: int64"
      ]
     },
     "execution_count": 17,
     "metadata": {},
     "output_type": "execute_result"
    }
   ],
   "source": [
    "cp.isnull().sum()"
   ]
  },
  {
   "cell_type": "markdown",
   "metadata": {},
   "source": [
    "***For those users who have not subsriced (not converted), the column 'date subscribed', 'date_canceled', and 'is_retained' are all null.***"
   ]
  },
  {
   "cell_type": "code",
   "execution_count": 18,
   "metadata": {},
   "outputs": [
    {
     "data": {
      "text/html": [
       "<div>\n",
       "<style scoped>\n",
       "    .dataframe tbody tr th:only-of-type {\n",
       "        vertical-align: middle;\n",
       "    }\n",
       "\n",
       "    .dataframe tbody tr th {\n",
       "        vertical-align: top;\n",
       "    }\n",
       "\n",
       "    .dataframe thead th {\n",
       "        text-align: right;\n",
       "    }\n",
       "</style>\n",
       "<table border=\"1\" class=\"dataframe\">\n",
       "  <thead>\n",
       "    <tr style=\"text-align: right;\">\n",
       "      <th></th>\n",
       "      <th>user_id</th>\n",
       "      <th>date_served</th>\n",
       "      <th>marketing_channel</th>\n",
       "      <th>test_control</th>\n",
       "      <th>converted</th>\n",
       "      <th>language_preferred</th>\n",
       "      <th>age_group</th>\n",
       "      <th>date_subscribed</th>\n",
       "      <th>date_canceled</th>\n",
       "      <th>is_retained</th>\n",
       "    </tr>\n",
       "  </thead>\n",
       "  <tbody>\n",
       "    <tr>\n",
       "      <th>1815</th>\n",
       "      <td>a100000004</td>\n",
       "      <td>1/1/2018</td>\n",
       "      <td>House Ads</td>\n",
       "      <td>control</td>\n",
       "      <td>False</td>\n",
       "      <td>English</td>\n",
       "      <td>0-18 years</td>\n",
       "      <td>NaN</td>\n",
       "      <td>NaN</td>\n",
       "      <td>NaN</td>\n",
       "    </tr>\n",
       "    <tr>\n",
       "      <th>1816</th>\n",
       "      <td>a100000013</td>\n",
       "      <td>1/1/2018</td>\n",
       "      <td>Push</td>\n",
       "      <td>control</td>\n",
       "      <td>False</td>\n",
       "      <td>English</td>\n",
       "      <td>19-24 years</td>\n",
       "      <td>NaN</td>\n",
       "      <td>NaN</td>\n",
       "      <td>NaN</td>\n",
       "    </tr>\n",
       "    <tr>\n",
       "      <th>1817</th>\n",
       "      <td>a100000022</td>\n",
       "      <td>1/1/2018</td>\n",
       "      <td>Facebook</td>\n",
       "      <td>control</td>\n",
       "      <td>False</td>\n",
       "      <td>English</td>\n",
       "      <td>24-30 years</td>\n",
       "      <td>NaN</td>\n",
       "      <td>NaN</td>\n",
       "      <td>NaN</td>\n",
       "    </tr>\n",
       "    <tr>\n",
       "      <th>1818</th>\n",
       "      <td>a100000022</td>\n",
       "      <td>1/16/2018</td>\n",
       "      <td>Facebook</td>\n",
       "      <td>control</td>\n",
       "      <td>False</td>\n",
       "      <td>English</td>\n",
       "      <td>24-30 years</td>\n",
       "      <td>NaN</td>\n",
       "      <td>NaN</td>\n",
       "      <td>NaN</td>\n",
       "    </tr>\n",
       "    <tr>\n",
       "      <th>1819</th>\n",
       "      <td>a100000025</td>\n",
       "      <td>1/1/2018</td>\n",
       "      <td>Instagram</td>\n",
       "      <td>control</td>\n",
       "      <td>False</td>\n",
       "      <td>English</td>\n",
       "      <td>30-36 years</td>\n",
       "      <td>NaN</td>\n",
       "      <td>NaN</td>\n",
       "      <td>NaN</td>\n",
       "    </tr>\n",
       "    <tr>\n",
       "      <th>...</th>\n",
       "      <td>...</td>\n",
       "      <td>...</td>\n",
       "      <td>...</td>\n",
       "      <td>...</td>\n",
       "      <td>...</td>\n",
       "      <td>...</td>\n",
       "      <td>...</td>\n",
       "      <td>...</td>\n",
       "      <td>...</td>\n",
       "      <td>...</td>\n",
       "    </tr>\n",
       "    <tr>\n",
       "      <th>9976</th>\n",
       "      <td>a100007249</td>\n",
       "      <td>1/4/2018</td>\n",
       "      <td>House Ads</td>\n",
       "      <td>control</td>\n",
       "      <td>False</td>\n",
       "      <td>English</td>\n",
       "      <td>45-55 years</td>\n",
       "      <td>NaN</td>\n",
       "      <td>NaN</td>\n",
       "      <td>NaN</td>\n",
       "    </tr>\n",
       "    <tr>\n",
       "      <th>9977</th>\n",
       "      <td>a100007250</td>\n",
       "      <td>1/5/2018</td>\n",
       "      <td>Facebook</td>\n",
       "      <td>control</td>\n",
       "      <td>False</td>\n",
       "      <td>English</td>\n",
       "      <td>55+ years</td>\n",
       "      <td>NaN</td>\n",
       "      <td>NaN</td>\n",
       "      <td>NaN</td>\n",
       "    </tr>\n",
       "    <tr>\n",
       "      <th>9978</th>\n",
       "      <td>a100007251</td>\n",
       "      <td>1/6/2018</td>\n",
       "      <td>Instagram</td>\n",
       "      <td>control</td>\n",
       "      <td>False</td>\n",
       "      <td>English</td>\n",
       "      <td>0-18 years</td>\n",
       "      <td>NaN</td>\n",
       "      <td>NaN</td>\n",
       "      <td>NaN</td>\n",
       "    </tr>\n",
       "    <tr>\n",
       "      <th>9979</th>\n",
       "      <td>a100007252</td>\n",
       "      <td>1/7/2018</td>\n",
       "      <td>House Ads</td>\n",
       "      <td>control</td>\n",
       "      <td>False</td>\n",
       "      <td>Spanish</td>\n",
       "      <td>19-24 years</td>\n",
       "      <td>NaN</td>\n",
       "      <td>NaN</td>\n",
       "      <td>NaN</td>\n",
       "    </tr>\n",
       "    <tr>\n",
       "      <th>9980</th>\n",
       "      <td>a100007253</td>\n",
       "      <td>1/8/2018</td>\n",
       "      <td>Facebook</td>\n",
       "      <td>control</td>\n",
       "      <td>False</td>\n",
       "      <td>English</td>\n",
       "      <td>24-30 years</td>\n",
       "      <td>NaN</td>\n",
       "      <td>NaN</td>\n",
       "      <td>NaN</td>\n",
       "    </tr>\n",
       "  </tbody>\n",
       "</table>\n",
       "<p>8166 rows × 10 columns</p>\n",
       "</div>"
      ],
      "text/plain": [
       "         user_id date_served marketing_channel test_control  converted  \\\n",
       "1815  a100000004    1/1/2018         House Ads      control      False   \n",
       "1816  a100000013    1/1/2018              Push      control      False   \n",
       "1817  a100000022    1/1/2018          Facebook      control      False   \n",
       "1818  a100000022   1/16/2018          Facebook      control      False   \n",
       "1819  a100000025    1/1/2018         Instagram      control      False   \n",
       "...          ...         ...               ...          ...        ...   \n",
       "9976  a100007249    1/4/2018         House Ads      control      False   \n",
       "9977  a100007250    1/5/2018          Facebook      control      False   \n",
       "9978  a100007251    1/6/2018         Instagram      control      False   \n",
       "9979  a100007252    1/7/2018         House Ads      control      False   \n",
       "9980  a100007253    1/8/2018          Facebook      control      False   \n",
       "\n",
       "     language_preferred    age_group date_subscribed date_canceled is_retained  \n",
       "1815            English   0-18 years             NaN           NaN         NaN  \n",
       "1816            English  19-24 years             NaN           NaN         NaN  \n",
       "1817            English  24-30 years             NaN           NaN         NaN  \n",
       "1818            English  24-30 years             NaN           NaN         NaN  \n",
       "1819            English  30-36 years             NaN           NaN         NaN  \n",
       "...                 ...          ...             ...           ...         ...  \n",
       "9976            English  45-55 years             NaN           NaN         NaN  \n",
       "9977            English    55+ years             NaN           NaN         NaN  \n",
       "9978            English   0-18 years             NaN           NaN         NaN  \n",
       "9979            Spanish  19-24 years             NaN           NaN         NaN  \n",
       "9980            English  24-30 years             NaN           NaN         NaN  \n",
       "\n",
       "[8166 rows x 10 columns]"
      ]
     },
     "execution_count": 18,
     "metadata": {},
     "output_type": "execute_result"
    }
   ],
   "source": [
    "# Every ads shown that failed to convert the viewing user\n",
    "offer_not_converting=cp[cp['date_subscribed'].isnull()]\n",
    "offer_not_converting"
   ]
  },
  {
   "cell_type": "code",
   "execution_count": 19,
   "metadata": {},
   "outputs": [
    {
     "data": {
      "text/plain": [
       "6274"
      ]
     },
     "execution_count": 19,
     "metadata": {},
     "output_type": "execute_result"
    }
   ],
   "source": [
    "# The number of unconverted users\n",
    "unconverted_users = offer_not_converting['user_id'].nunique()\n",
    "unconverted_users"
   ]
  },
  {
   "cell_type": "code",
   "execution_count": 55,
   "metadata": {},
   "outputs": [
    {
     "data": {
      "text/plain": [
       "'The conversion rate of all channels combined is 13.98%'"
      ]
     },
     "execution_count": 55,
     "metadata": {},
     "output_type": "execute_result"
    }
   ],
   "source": [
    "# The conversion rate of all campaign channels combined\n",
    "# Total\n",
    "converted_total=total_users-unconverted_users\n",
    "conversion_total = round((converted_total/total_users)*100,2)\n",
    "'The conversion rate of all channels combined is {}%'.format(conversion_total)"
   ]
  },
  {
   "cell_type": "markdown",
   "metadata": {},
   "source": [
    ">**Conversion Rate by Channel**"
   ]
  },
  {
   "cell_type": "code",
   "execution_count": 29,
   "metadata": {},
   "outputs": [
    {
     "data": {
      "text/plain": [
       "marketing_channel\n",
       "Email        187\n",
       "Facebook     221\n",
       "House Ads    298\n",
       "Instagram    232\n",
       "Push          77\n",
       "Name: user_id, dtype: int64"
      ]
     },
     "execution_count": 29,
     "metadata": {},
     "output_type": "execute_result"
    }
   ],
   "source": [
    "# Number of users converted in each channel\n",
    "converted_bychannel_num=cp[cp['converted']==True].groupby('marketing_channel')['user_id'].nunique()\n",
    "converted_bychannel_num"
   ]
  },
  {
   "cell_type": "code",
   "execution_count": 38,
   "metadata": {},
   "outputs": [
    {
     "data": {
      "text/plain": [
       "marketing_channel\n",
       "Email        0.338156\n",
       "Facebook     0.125711\n",
       "House Ads    0.075101\n",
       "Instagram    0.133333\n",
       "Push         0.079218\n",
       "Name: user_id, dtype: float64"
      ]
     },
     "execution_count": 38,
     "metadata": {},
     "output_type": "execute_result"
    }
   ],
   "source": [
    "# Conversion rate by channel\n",
    "conversion_bychannel=converted_bychannel_num/cp.groupby(['marketing_channel'])['user_id'].nunique()\n",
    "conversion_bychannel"
   ]
  },
  {
   "cell_type": "code",
   "execution_count": 42,
   "metadata": {},
   "outputs": [
    {
     "data": {
      "image/png": "[encoded data removed]",
      "text/plain": [
       "<Figure size 432x288 with 1 Axes>"
      ]
     },
     "metadata": {
      "needs_background": "light"
     },
     "output_type": "display_data"
    }
   ],
   "source": [
    "# Visualization the conversion rate\n",
    "\n",
    "conversion_bychannel.plot(kind='bar')\n",
    "\n",
    "plt.title('conversion rate by channel')\n",
    "plt.xlabel('marketing channel')\n",
    "plt.ylabel('conversion rate')\n",
    "plt.show()"
   ]
  },
  {
   "cell_type": "markdown",
   "metadata": {},
   "source": [
    "### **4. Retention Rate**\n",
    "Retention Rate = Total number of people who remained/Total number of people who converted "
   ]
  },
  {
   "cell_type": "markdown",
   "metadata": {},
   "source": [
    ">Total Retention"
   ]
  },
  {
   "cell_type": "code",
   "execution_count": 45,
   "metadata": {},
   "outputs": [
    {
     "data": {
      "text/plain": [
       "678"
      ]
     },
     "execution_count": 45,
     "metadata": {},
     "output_type": "execute_result"
    }
   ],
   "source": [
    "# Total number of users retained through campaign\n",
    "retained_total=cp[cp['is_retained']==True]['user_id'].nunique()\n",
    "retained_total"
   ]
  },
  {
   "cell_type": "code",
   "execution_count": 54,
   "metadata": {
    "scrolled": true
   },
   "outputs": [
    {
     "data": {
      "text/plain": [
       "'The conversion rate of all channels combined is 66.47%'"
      ]
     },
     "execution_count": 54,
     "metadata": {},
     "output_type": "execute_result"
    }
   ],
   "source": [
    "# Retention rate all channels combined\n",
    "retention_total=round((retained_total/converted_total)*100,2)\n",
    "'The conversion rate of all channels combined is {}%'.format(retention_total)"
   ]
  },
  {
   "cell_type": "markdown",
   "metadata": {},
   "source": [
    ">Retention Rate by Channel"
   ]
  },
  {
   "cell_type": "code",
   "execution_count": 64,
   "metadata": {},
   "outputs": [
    {
     "data": {
      "text/plain": [
       "marketing_channel\n",
       "Email        139\n",
       "Facebook     211\n",
       "House Ads    378\n",
       "Instagram    198\n",
       "Push          95\n",
       "Name: user_id, dtype: int64"
      ]
     },
     "execution_count": 64,
     "metadata": {},
     "output_type": "execute_result"
    }
   ],
   "source": [
    "# Numbers of users retained through each campaign channel\n",
    "retained_bychannel_num = cp[cp['is_retained']==True].groupby('marketing_channel')['user_id'].nunique()\n",
    "retained_bychannel_num"
   ]
  },
  {
   "cell_type": "code",
   "execution_count": 67,
   "metadata": {},
   "outputs": [
    {
     "data": {
      "text/plain": [
       "marketing_channel\n",
       "Email        0.743316\n",
       "Facebook     0.954751\n",
       "House Ads    1.268456\n",
       "Instagram    0.853448\n",
       "Push         1.233766\n",
       "Name: user_id, dtype: float64"
      ]
     },
     "execution_count": 67,
     "metadata": {},
     "output_type": "execute_result"
    }
   ],
   "source": [
    "# Retention rate: error\n",
    "# NOTE: you can notice the error as both House Ads and Push have retention rate > 1\n",
    "retained_bychannel_num/converted_bychannel_num"
   ]
  },
  {
   "cell_type": "markdown",
   "metadata": {},
   "source": [
    ">>**Error**: \n",
    ">>if we simply divide #retained users and #converted users which were both calculated before, the retention rate is not correct\n",
    "This is because retention is a status signal for one user, so it will be the same for each user across all channels.\n",
    "<br>\n",
    "<br>\n",
    "Each converted user is, however, only converted through one channel. For example, this person clicks on push ads and then decides to enroll. Then this person is converted through push ads, which means 'is_converted' is only TRUE for push channel, but his status in 'is_retained' will be TRUE across all marketing channel.\n",
    "<br>\n",
    "<br>\n",
    "This means the real retention number should be lower"
   ]
  },
  {
   "cell_type": "markdown",
   "metadata": {},
   "source": [
    ">>>**Investigation:**\n",
    ">>Look at the table detail, and find out all the offers where (1) the user is retained but (2) not converted in this particular channel"
   ]
  },
  {
   "cell_type": "code",
   "execution_count": 74,
   "metadata": {},
   "outputs": [
    {
     "data": {
      "text/html": [
       "<div>\n",
       "<style scoped>\n",
       "    .dataframe tbody tr th:only-of-type {\n",
       "        vertical-align: middle;\n",
       "    }\n",
       "\n",
       "    .dataframe tbody tr th {\n",
       "        vertical-align: top;\n",
       "    }\n",
       "\n",
       "    .dataframe thead th {\n",
       "        text-align: right;\n",
       "    }\n",
       "</style>\n",
       "<table border=\"1\" class=\"dataframe\">\n",
       "  <thead>\n",
       "    <tr style=\"text-align: right;\">\n",
       "      <th></th>\n",
       "      <th>user_id</th>\n",
       "      <th>date_served</th>\n",
       "      <th>marketing_channel</th>\n",
       "      <th>test_control</th>\n",
       "      <th>converted</th>\n",
       "      <th>language_preferred</th>\n",
       "      <th>age_group</th>\n",
       "      <th>date_subscribed</th>\n",
       "      <th>date_canceled</th>\n",
       "      <th>is_retained</th>\n",
       "    </tr>\n",
       "  </thead>\n",
       "  <tbody>\n",
       "    <tr>\n",
       "      <th>22</th>\n",
       "      <td>a100000050</td>\n",
       "      <td>1/1/2018</td>\n",
       "      <td>House Ads</td>\n",
       "      <td>personalization</td>\n",
       "      <td>False</td>\n",
       "      <td>English</td>\n",
       "      <td>24-30 years</td>\n",
       "      <td>1/2/2018</td>\n",
       "      <td>NaN</td>\n",
       "      <td>True</td>\n",
       "    </tr>\n",
       "    <tr>\n",
       "      <th>24</th>\n",
       "      <td>a100000051</td>\n",
       "      <td>1/1/2018</td>\n",
       "      <td>Push</td>\n",
       "      <td>personalization</td>\n",
       "      <td>False</td>\n",
       "      <td>English</td>\n",
       "      <td>30-36 years</td>\n",
       "      <td>1/2/2018</td>\n",
       "      <td>NaN</td>\n",
       "      <td>True</td>\n",
       "    </tr>\n",
       "    <tr>\n",
       "      <th>26</th>\n",
       "      <td>a100000052</td>\n",
       "      <td>1/1/2018</td>\n",
       "      <td>House Ads</td>\n",
       "      <td>personalization</td>\n",
       "      <td>False</td>\n",
       "      <td>English</td>\n",
       "      <td>36-45 years</td>\n",
       "      <td>1/2/2018</td>\n",
       "      <td>NaN</td>\n",
       "      <td>True</td>\n",
       "    </tr>\n",
       "    <tr>\n",
       "      <th>28</th>\n",
       "      <td>a100000053</td>\n",
       "      <td>1/1/2018</td>\n",
       "      <td>House Ads</td>\n",
       "      <td>personalization</td>\n",
       "      <td>False</td>\n",
       "      <td>English</td>\n",
       "      <td>45-55 years</td>\n",
       "      <td>1/2/2018</td>\n",
       "      <td>NaN</td>\n",
       "      <td>True</td>\n",
       "    </tr>\n",
       "    <tr>\n",
       "      <th>30</th>\n",
       "      <td>a100000054</td>\n",
       "      <td>1/1/2018</td>\n",
       "      <td>House Ads</td>\n",
       "      <td>personalization</td>\n",
       "      <td>False</td>\n",
       "      <td>English</td>\n",
       "      <td>55+ years</td>\n",
       "      <td>1/2/2018</td>\n",
       "      <td>NaN</td>\n",
       "      <td>True</td>\n",
       "    </tr>\n",
       "    <tr>\n",
       "      <th>...</th>\n",
       "      <td>...</td>\n",
       "      <td>...</td>\n",
       "      <td>...</td>\n",
       "      <td>...</td>\n",
       "      <td>...</td>\n",
       "      <td>...</td>\n",
       "      <td>...</td>\n",
       "      <td>...</td>\n",
       "      <td>...</td>\n",
       "      <td>...</td>\n",
       "    </tr>\n",
       "    <tr>\n",
       "      <th>9985</th>\n",
       "      <td>a100007258</td>\n",
       "      <td>1/15/2018</td>\n",
       "      <td>Email</td>\n",
       "      <td>personalization</td>\n",
       "      <td>False</td>\n",
       "      <td>German</td>\n",
       "      <td>24-30 years</td>\n",
       "      <td>1/15/2018</td>\n",
       "      <td>NaN</td>\n",
       "      <td>True</td>\n",
       "    </tr>\n",
       "    <tr>\n",
       "      <th>9993</th>\n",
       "      <td>a100007266</td>\n",
       "      <td>1/16/2018</td>\n",
       "      <td>Email</td>\n",
       "      <td>personalization</td>\n",
       "      <td>False</td>\n",
       "      <td>German</td>\n",
       "      <td>24-30 years</td>\n",
       "      <td>1/16/2018</td>\n",
       "      <td>NaN</td>\n",
       "      <td>True</td>\n",
       "    </tr>\n",
       "    <tr>\n",
       "      <th>10005</th>\n",
       "      <td>a100007278</td>\n",
       "      <td>1/16/2018</td>\n",
       "      <td>Email</td>\n",
       "      <td>control</td>\n",
       "      <td>False</td>\n",
       "      <td>German</td>\n",
       "      <td>0-18 years</td>\n",
       "      <td>1/16/2018</td>\n",
       "      <td>NaN</td>\n",
       "      <td>True</td>\n",
       "    </tr>\n",
       "    <tr>\n",
       "      <th>10019</th>\n",
       "      <td>a100007292</td>\n",
       "      <td>1/5/2018</td>\n",
       "      <td>Instagram</td>\n",
       "      <td>control</td>\n",
       "      <td>False</td>\n",
       "      <td>German</td>\n",
       "      <td>55+ years</td>\n",
       "      <td>1/17/2018</td>\n",
       "      <td>NaN</td>\n",
       "      <td>True</td>\n",
       "    </tr>\n",
       "    <tr>\n",
       "      <th>10021</th>\n",
       "      <td>a100007294</td>\n",
       "      <td>1/6/2018</td>\n",
       "      <td>Facebook</td>\n",
       "      <td>control</td>\n",
       "      <td>False</td>\n",
       "      <td>German</td>\n",
       "      <td>0-18 years</td>\n",
       "      <td>1/17/2018</td>\n",
       "      <td>NaN</td>\n",
       "      <td>True</td>\n",
       "    </tr>\n",
       "  </tbody>\n",
       "</table>\n",
       "<p>578 rows × 10 columns</p>\n",
       "</div>"
      ],
      "text/plain": [
       "          user_id date_served marketing_channel     test_control  converted  \\\n",
       "22     a100000050    1/1/2018         House Ads  personalization      False   \n",
       "24     a100000051    1/1/2018              Push  personalization      False   \n",
       "26     a100000052    1/1/2018         House Ads  personalization      False   \n",
       "28     a100000053    1/1/2018         House Ads  personalization      False   \n",
       "30     a100000054    1/1/2018         House Ads  personalization      False   \n",
       "...           ...         ...               ...              ...        ...   \n",
       "9985   a100007258   1/15/2018             Email  personalization      False   \n",
       "9993   a100007266   1/16/2018             Email  personalization      False   \n",
       "10005  a100007278   1/16/2018             Email          control      False   \n",
       "10019  a100007292    1/5/2018         Instagram          control      False   \n",
       "10021  a100007294    1/6/2018          Facebook          control      False   \n",
       "\n",
       "      language_preferred    age_group date_subscribed date_canceled  \\\n",
       "22               English  24-30 years        1/2/2018           NaN   \n",
       "24               English  30-36 years        1/2/2018           NaN   \n",
       "26               English  36-45 years        1/2/2018           NaN   \n",
       "28               English  45-55 years        1/2/2018           NaN   \n",
       "30               English    55+ years        1/2/2018           NaN   \n",
       "...                  ...          ...             ...           ...   \n",
       "9985              German  24-30 years       1/15/2018           NaN   \n",
       "9993              German  24-30 years       1/16/2018           NaN   \n",
       "10005             German   0-18 years       1/16/2018           NaN   \n",
       "10019             German    55+ years       1/17/2018           NaN   \n",
       "10021             German   0-18 years       1/17/2018           NaN   \n",
       "\n",
       "      is_retained  \n",
       "22           True  \n",
       "24           True  \n",
       "26           True  \n",
       "28           True  \n",
       "30           True  \n",
       "...           ...  \n",
       "9985         True  \n",
       "9993         True  \n",
       "10005        True  \n",
       "10019        True  \n",
       "10021        True  \n",
       "\n",
       "[578 rows x 10 columns]"
      ]
     },
     "execution_count": 74,
     "metadata": {},
     "output_type": "execute_result"
    }
   ],
   "source": [
    "# All offers meet the criteria above\n",
    "cp.loc[(cp['converted']==False) & (cp['is_retained']==True)]"
   ]
  },
  {
   "cell_type": "markdown",
   "metadata": {},
   "source": [
    ">>>Look at a few individuals"
   ]
  },
  {
   "cell_type": "code",
   "execution_count": 78,
   "metadata": {},
   "outputs": [
    {
     "data": {
      "text/html": [
       "<div>\n",
       "<style scoped>\n",
       "    .dataframe tbody tr th:only-of-type {\n",
       "        vertical-align: middle;\n",
       "    }\n",
       "\n",
       "    .dataframe tbody tr th {\n",
       "        vertical-align: top;\n",
       "    }\n",
       "\n",
       "    .dataframe thead th {\n",
       "        text-align: right;\n",
       "    }\n",
       "</style>\n",
       "<table border=\"1\" class=\"dataframe\">\n",
       "  <thead>\n",
       "    <tr style=\"text-align: right;\">\n",
       "      <th></th>\n",
       "      <th>user_id</th>\n",
       "      <th>date_served</th>\n",
       "      <th>marketing_channel</th>\n",
       "      <th>test_control</th>\n",
       "      <th>converted</th>\n",
       "      <th>language_preferred</th>\n",
       "      <th>age_group</th>\n",
       "      <th>date_subscribed</th>\n",
       "      <th>date_canceled</th>\n",
       "      <th>is_retained</th>\n",
       "    </tr>\n",
       "  </thead>\n",
       "  <tbody>\n",
       "    <tr>\n",
       "      <th>21</th>\n",
       "      <td>a100000050</td>\n",
       "      <td>1/2/2018</td>\n",
       "      <td>House Ads</td>\n",
       "      <td>personalization</td>\n",
       "      <td>True</td>\n",
       "      <td>English</td>\n",
       "      <td>24-30 years</td>\n",
       "      <td>1/2/2018</td>\n",
       "      <td>NaN</td>\n",
       "      <td>True</td>\n",
       "    </tr>\n",
       "    <tr>\n",
       "      <th>22</th>\n",
       "      <td>a100000050</td>\n",
       "      <td>1/1/2018</td>\n",
       "      <td>House Ads</td>\n",
       "      <td>personalization</td>\n",
       "      <td>False</td>\n",
       "      <td>English</td>\n",
       "      <td>24-30 years</td>\n",
       "      <td>1/2/2018</td>\n",
       "      <td>NaN</td>\n",
       "      <td>True</td>\n",
       "    </tr>\n",
       "  </tbody>\n",
       "</table>\n",
       "</div>"
      ],
      "text/plain": [
       "       user_id date_served marketing_channel     test_control  converted  \\\n",
       "21  a100000050    1/2/2018         House Ads  personalization       True   \n",
       "22  a100000050    1/1/2018         House Ads  personalization      False   \n",
       "\n",
       "   language_preferred    age_group date_subscribed date_canceled is_retained  \n",
       "21            English  24-30 years        1/2/2018           NaN        True  \n",
       "22            English  24-30 years        1/2/2018           NaN        True  "
      ]
     },
     "execution_count": 78,
     "metadata": {},
     "output_type": "execute_result"
    }
   ],
   "source": [
    "# customer a100000050\n",
    "# received two offers on House Ads, and was converted through the second offer\n",
    "cp.loc[cp['user_id']== 'a100000050']"
   ]
  },
  {
   "cell_type": "code",
   "execution_count": 79,
   "metadata": {},
   "outputs": [
    {
     "data": {
      "text/html": [
       "<div>\n",
       "<style scoped>\n",
       "    .dataframe tbody tr th:only-of-type {\n",
       "        vertical-align: middle;\n",
       "    }\n",
       "\n",
       "    .dataframe tbody tr th {\n",
       "        vertical-align: top;\n",
       "    }\n",
       "\n",
       "    .dataframe thead th {\n",
       "        text-align: right;\n",
       "    }\n",
       "</style>\n",
       "<table border=\"1\" class=\"dataframe\">\n",
       "  <thead>\n",
       "    <tr style=\"text-align: right;\">\n",
       "      <th></th>\n",
       "      <th>user_id</th>\n",
       "      <th>date_served</th>\n",
       "      <th>marketing_channel</th>\n",
       "      <th>test_control</th>\n",
       "      <th>converted</th>\n",
       "      <th>language_preferred</th>\n",
       "      <th>age_group</th>\n",
       "      <th>date_subscribed</th>\n",
       "      <th>date_canceled</th>\n",
       "      <th>is_retained</th>\n",
       "    </tr>\n",
       "  </thead>\n",
       "  <tbody>\n",
       "    <tr>\n",
       "      <th>23</th>\n",
       "      <td>a100000051</td>\n",
       "      <td>1/2/2018</td>\n",
       "      <td>House Ads</td>\n",
       "      <td>personalization</td>\n",
       "      <td>True</td>\n",
       "      <td>English</td>\n",
       "      <td>30-36 years</td>\n",
       "      <td>1/2/2018</td>\n",
       "      <td>NaN</td>\n",
       "      <td>True</td>\n",
       "    </tr>\n",
       "    <tr>\n",
       "      <th>24</th>\n",
       "      <td>a100000051</td>\n",
       "      <td>1/1/2018</td>\n",
       "      <td>Push</td>\n",
       "      <td>personalization</td>\n",
       "      <td>False</td>\n",
       "      <td>English</td>\n",
       "      <td>30-36 years</td>\n",
       "      <td>1/2/2018</td>\n",
       "      <td>NaN</td>\n",
       "      <td>True</td>\n",
       "    </tr>\n",
       "  </tbody>\n",
       "</table>\n",
       "</div>"
      ],
      "text/plain": [
       "       user_id date_served marketing_channel     test_control  converted  \\\n",
       "23  a100000051    1/2/2018         House Ads  personalization       True   \n",
       "24  a100000051    1/1/2018              Push  personalization      False   \n",
       "\n",
       "   language_preferred    age_group date_subscribed date_canceled is_retained  \n",
       "23            English  30-36 years        1/2/2018           NaN        True  \n",
       "24            English  30-36 years        1/2/2018           NaN        True  "
      ]
     },
     "execution_count": 79,
     "metadata": {},
     "output_type": "execute_result"
    }
   ],
   "source": [
    "# customer a100000051\n",
    "# first received offer through Push, failed to be converted\n",
    "# then received offer through House Ads, and converted\n",
    "# this is the aforementioned case that caused the error\n",
    "cp.loc[cp['user_id']== 'a100000051']"
   ]
  },
  {
   "cell_type": "code",
   "execution_count": 95,
   "metadata": {},
   "outputs": [],
   "source": [
    "cp['is_retained'].mask(cp['converted']==False, inplace=True)"
   ]
  },
  {
   "cell_type": "code",
   "execution_count": 98,
   "metadata": {},
   "outputs": [
    {
     "data": {
      "text/html": [
       "<div>\n",
       "<style scoped>\n",
       "    .dataframe tbody tr th:only-of-type {\n",
       "        vertical-align: middle;\n",
       "    }\n",
       "\n",
       "    .dataframe tbody tr th {\n",
       "        vertical-align: top;\n",
       "    }\n",
       "\n",
       "    .dataframe thead th {\n",
       "        text-align: right;\n",
       "    }\n",
       "</style>\n",
       "<table border=\"1\" class=\"dataframe\">\n",
       "  <thead>\n",
       "    <tr style=\"text-align: right;\">\n",
       "      <th></th>\n",
       "      <th>user_id</th>\n",
       "      <th>date_served</th>\n",
       "      <th>marketing_channel</th>\n",
       "      <th>test_control</th>\n",
       "      <th>converted</th>\n",
       "      <th>language_preferred</th>\n",
       "      <th>age_group</th>\n",
       "      <th>date_subscribed</th>\n",
       "      <th>date_canceled</th>\n",
       "      <th>is_retained</th>\n",
       "    </tr>\n",
       "  </thead>\n",
       "  <tbody>\n",
       "    <tr>\n",
       "      <th>21</th>\n",
       "      <td>a100000050</td>\n",
       "      <td>1/2/2018</td>\n",
       "      <td>House Ads</td>\n",
       "      <td>personalization</td>\n",
       "      <td>True</td>\n",
       "      <td>English</td>\n",
       "      <td>24-30 years</td>\n",
       "      <td>1/2/2018</td>\n",
       "      <td>NaN</td>\n",
       "      <td>True</td>\n",
       "    </tr>\n",
       "    <tr>\n",
       "      <th>22</th>\n",
       "      <td>a100000050</td>\n",
       "      <td>1/1/2018</td>\n",
       "      <td>House Ads</td>\n",
       "      <td>personalization</td>\n",
       "      <td>False</td>\n",
       "      <td>English</td>\n",
       "      <td>24-30 years</td>\n",
       "      <td>1/2/2018</td>\n",
       "      <td>NaN</td>\n",
       "      <td>NaN</td>\n",
       "    </tr>\n",
       "  </tbody>\n",
       "</table>\n",
       "</div>"
      ],
      "text/plain": [
       "       user_id date_served marketing_channel     test_control  converted  \\\n",
       "21  a100000050    1/2/2018         House Ads  personalization       True   \n",
       "22  a100000050    1/1/2018         House Ads  personalization      False   \n",
       "\n",
       "   language_preferred    age_group date_subscribed date_canceled is_retained  \n",
       "21            English  24-30 years        1/2/2018           NaN        True  \n",
       "22            English  24-30 years        1/2/2018           NaN         NaN  "
      ]
     },
     "execution_count": 98,
     "metadata": {},
     "output_type": "execute_result"
    }
   ],
   "source": [
    "cp.loc[cp['user_id']== 'a100000050']"
   ]
  },
  {
   "cell_type": "code",
   "execution_count": 106,
   "metadata": {},
   "outputs": [
    {
     "data": {
      "text/plain": [
       "marketing_channel\n",
       "Email        118\n",
       "Facebook     152\n",
       "House Ads    173\n",
       "Instagram    158\n",
       "Push          54\n",
       "Name: user_id, dtype: int64"
      ]
     },
     "execution_count": 106,
     "metadata": {},
     "output_type": "execute_result"
    }
   ],
   "source": [
    "# The correct retention number for each channel\n",
    "# Now the retained user is converted through the same channel\n",
    "retained_bychannel_num2 = cp.loc[cp['is_retained']==True].groupby(['marketing_channel'])['user_id'].nunique()\n",
    "retained_bychannel_num2"
   ]
  },
  {
   "cell_type": "code",
   "execution_count": 105,
   "metadata": {},
   "outputs": [
    {
     "data": {
      "text/plain": [
       "marketing_channel\n",
       "Email        0.631016\n",
       "Facebook     0.687783\n",
       "House Ads    0.580537\n",
       "Instagram    0.681034\n",
       "Push         0.701299\n",
       "Name: user_id, dtype: float64"
      ]
     },
     "execution_count": 105,
     "metadata": {},
     "output_type": "execute_result"
    }
   ],
   "source": [
    "retained_bychannel_num2/converted_bychannel_num"
   ]
  },
  {
   "cell_type": "markdown",
   "metadata": {},
   "source": [
    ">>**Conclusion: The most effective channel is Push (the channel managed to retain 70% of users it has converted).\n",
    "In other words, we can say that Push channel has the highest user stickiness**"
   ]
  },
  {
   "cell_type": "markdown",
   "metadata": {},
   "source": [
    "### **5. Customer Segmentation Analysis**"
   ]
  },
  {
   "cell_type": "markdown",
   "metadata": {},
   "source": [
    "> Languages"
   ]
  },
  {
   "cell_type": "code",
   "execution_count": 114,
   "metadata": {},
   "outputs": [
    {
     "data": {
      "text/plain": [
       "language_preferred  age_group  \n",
       "Arabic              0-18 years       4\n",
       "                    19-24 years      2\n",
       "                    24-30 years      8\n",
       "                    36-45 years      1\n",
       "                    45-55 years      3\n",
       "                    55+ years        1\n",
       "English             0-18 years     168\n",
       "                    19-24 years    281\n",
       "                    24-30 years    201\n",
       "                    30-36 years     69\n",
       "                    36-45 years     65\n",
       "                    45-55 years     61\n",
       "                    55+ years       66\n",
       "German              0-18 years      13\n",
       "                    19-24 years     14\n",
       "                    24-30 years     17\n",
       "                    30-36 years      3\n",
       "                    36-45 years      4\n",
       "                    45-55 years      6\n",
       "                    55+ years        2\n",
       "Spanish             0-18 years       7\n",
       "                    19-24 years      6\n",
       "                    24-30 years      2\n",
       "                    30-36 years      5\n",
       "                    36-45 years      4\n",
       "                    45-55 years      5\n",
       "                    55+ years        7\n",
       "Name: user_id, dtype: int64"
      ]
     },
     "execution_count": 114,
     "metadata": {},
     "output_type": "execute_result"
    }
   ],
   "source": [
    "# Number of converted users speaking the language \n",
    "language_age_convert=cp.loc[cp['converted']==True].groupby(['language_preferred','age_group'])['user_id'].nunique()\n",
    "language_age_convert"
   ]
  },
  {
   "cell_type": "code",
   "execution_count": 117,
   "metadata": {},
   "outputs": [
    {
     "data": {
      "text/html": [
       "<div>\n",
       "<style scoped>\n",
       "    .dataframe tbody tr th:only-of-type {\n",
       "        vertical-align: middle;\n",
       "    }\n",
       "\n",
       "    .dataframe tbody tr th {\n",
       "        vertical-align: top;\n",
       "    }\n",
       "\n",
       "    .dataframe thead th {\n",
       "        text-align: right;\n",
       "    }\n",
       "</style>\n",
       "<table border=\"1\" class=\"dataframe\">\n",
       "  <thead>\n",
       "    <tr style=\"text-align: right;\">\n",
       "      <th>age_group</th>\n",
       "      <th>0-18 years</th>\n",
       "      <th>19-24 years</th>\n",
       "      <th>24-30 years</th>\n",
       "      <th>30-36 years</th>\n",
       "      <th>36-45 years</th>\n",
       "      <th>45-55 years</th>\n",
       "      <th>55+ years</th>\n",
       "    </tr>\n",
       "    <tr>\n",
       "      <th>language_preferred</th>\n",
       "      <th></th>\n",
       "      <th></th>\n",
       "      <th></th>\n",
       "      <th></th>\n",
       "      <th></th>\n",
       "      <th></th>\n",
       "      <th></th>\n",
       "    </tr>\n",
       "  </thead>\n",
       "  <tbody>\n",
       "    <tr>\n",
       "      <th>Arabic</th>\n",
       "      <td>4.0</td>\n",
       "      <td>2.0</td>\n",
       "      <td>8.0</td>\n",
       "      <td>NaN</td>\n",
       "      <td>1.0</td>\n",
       "      <td>3.0</td>\n",
       "      <td>1.0</td>\n",
       "    </tr>\n",
       "    <tr>\n",
       "      <th>English</th>\n",
       "      <td>168.0</td>\n",
       "      <td>281.0</td>\n",
       "      <td>201.0</td>\n",
       "      <td>69.0</td>\n",
       "      <td>65.0</td>\n",
       "      <td>61.0</td>\n",
       "      <td>66.0</td>\n",
       "    </tr>\n",
       "    <tr>\n",
       "      <th>German</th>\n",
       "      <td>13.0</td>\n",
       "      <td>14.0</td>\n",
       "      <td>17.0</td>\n",
       "      <td>3.0</td>\n",
       "      <td>4.0</td>\n",
       "      <td>6.0</td>\n",
       "      <td>2.0</td>\n",
       "    </tr>\n",
       "    <tr>\n",
       "      <th>Spanish</th>\n",
       "      <td>7.0</td>\n",
       "      <td>6.0</td>\n",
       "      <td>2.0</td>\n",
       "      <td>5.0</td>\n",
       "      <td>4.0</td>\n",
       "      <td>5.0</td>\n",
       "      <td>7.0</td>\n",
       "    </tr>\n",
       "  </tbody>\n",
       "</table>\n",
       "</div>"
      ],
      "text/plain": [
       "age_group           0-18 years  19-24 years  24-30 years  30-36 years  \\\n",
       "language_preferred                                                      \n",
       "Arabic                     4.0          2.0          8.0          NaN   \n",
       "English                  168.0        281.0        201.0         69.0   \n",
       "German                    13.0         14.0         17.0          3.0   \n",
       "Spanish                    7.0          6.0          2.0          5.0   \n",
       "\n",
       "age_group           36-45 years  45-55 years  55+ years  \n",
       "language_preferred                                       \n",
       "Arabic                      1.0          3.0        1.0  \n",
       "English                    65.0         61.0       66.0  \n",
       "German                      4.0          6.0        2.0  \n",
       "Spanish                     4.0          5.0        7.0  "
      ]
     },
     "execution_count": 117,
     "metadata": {},
     "output_type": "execute_result"
    }
   ],
   "source": [
    "# Make the table easier to look at\n",
    "table = language_age_convert.unstack(level=1)\n",
    "table"
   ]
  },
  {
   "cell_type": "code",
   "execution_count": 119,
   "metadata": {},
   "outputs": [
    {
     "data": {
      "image/png": "[encoded data removed]",
      "text/plain": [
       "<Figure size 432x288 with 1 Axes>"
      ]
     },
     "metadata": {
      "needs_background": "light"
     },
     "output_type": "display_data"
    }
   ],
   "source": [
    "table.plot(kind='bar')\n",
    "\n",
    "plt.title('number of users by language and age')\n",
    "plt.xlabel('language')\n",
    "plt.ylabel('number of users')\n",
    "plt.show()"
   ]
  },
  {
   "cell_type": "markdown",
   "metadata": {},
   "source": [
    "# A/B Testing"
   ]
  },
  {
   "cell_type": "markdown",
   "metadata": {},
   "source": [
    "In a typical A/B testing setting, you would create and test two or more versions of marketing strategies for their effectiveness in achieving your marketing goal. \n",
    "\n",
    "Here is a case where your goal is to improve marketing email open rates. \n",
    "\n",
    "The hypothesis is that email subject line B will result in higher open rates than email subject line A, then you would run an A/B test with these two subject lines. \n",
    "\n",
    "You will randomly select half of the users and send out marketing emails with subject line A. The other half of randomly selected users will receive emails with subject line B. You will run this test for a predetermined period of time (which could be one week, two weeks, or one month, for instance) or until a predetermined number of users receive the two versions of emails (which is a minimum of 1,000 users to receive each version of the subject line). Once your tests are complete, then you analyze and evaluate the experiment results. When analyzing the results, you will need to check whether there is a statistically significant difference between the results of the two versions."
   ]
  },
  {
   "cell_type": "code",
   "execution_count": 120,
   "metadata": {},
   "outputs": [],
   "source": [
    "from scipy import stats"
   ]
  },
  {
   "cell_type": "code",
   "execution_count": 122,
   "metadata": {},
   "outputs": [
    {
     "data": {
      "text/plain": [
       "control            5076\n",
       "personalization    4946\n",
       "Name: test_control, dtype: int64"
      ]
     },
     "execution_count": 122,
     "metadata": {},
     "output_type": "execute_result"
    }
   ],
   "source": [
    "cp['test_control'].value_counts()"
   ]
  },
  {
   "cell_type": "markdown",
   "metadata": {},
   "source": [
    "Focus on the Email channel"
   ]
  },
  {
   "cell_type": "code",
   "execution_count": 124,
   "metadata": {},
   "outputs": [
    {
     "data": {
      "text/html": [
       "<div>\n",
       "<style scoped>\n",
       "    .dataframe tbody tr th:only-of-type {\n",
       "        vertical-align: middle;\n",
       "    }\n",
       "\n",
       "    .dataframe tbody tr th {\n",
       "        vertical-align: top;\n",
       "    }\n",
       "\n",
       "    .dataframe thead th {\n",
       "        text-align: right;\n",
       "    }\n",
       "</style>\n",
       "<table border=\"1\" class=\"dataframe\">\n",
       "  <thead>\n",
       "    <tr style=\"text-align: right;\">\n",
       "      <th></th>\n",
       "      <th>user_id</th>\n",
       "      <th>date_served</th>\n",
       "      <th>marketing_channel</th>\n",
       "      <th>test_control</th>\n",
       "      <th>converted</th>\n",
       "      <th>language_preferred</th>\n",
       "      <th>age_group</th>\n",
       "      <th>date_subscribed</th>\n",
       "      <th>date_canceled</th>\n",
       "      <th>is_retained</th>\n",
       "    </tr>\n",
       "  </thead>\n",
       "  <tbody>\n",
       "    <tr>\n",
       "      <th>354</th>\n",
       "      <td>a100000526</td>\n",
       "      <td>1/1/2018</td>\n",
       "      <td>Email</td>\n",
       "      <td>personalization</td>\n",
       "      <td>True</td>\n",
       "      <td>Arabic</td>\n",
       "      <td>0-18 years</td>\n",
       "      <td>1/1/2018</td>\n",
       "      <td>NaN</td>\n",
       "      <td>True</td>\n",
       "    </tr>\n",
       "    <tr>\n",
       "      <th>358</th>\n",
       "      <td>a100000530</td>\n",
       "      <td>1/5/2018</td>\n",
       "      <td>Email</td>\n",
       "      <td>personalization</td>\n",
       "      <td>True</td>\n",
       "      <td>Arabic</td>\n",
       "      <td>19-24 years</td>\n",
       "      <td>1/5/2018</td>\n",
       "      <td>NaN</td>\n",
       "      <td>True</td>\n",
       "    </tr>\n",
       "    <tr>\n",
       "      <th>362</th>\n",
       "      <td>a100000534</td>\n",
       "      <td>1/9/2018</td>\n",
       "      <td>Email</td>\n",
       "      <td>personalization</td>\n",
       "      <td>False</td>\n",
       "      <td>English</td>\n",
       "      <td>45-55 years</td>\n",
       "      <td>1/9/2018</td>\n",
       "      <td>NaN</td>\n",
       "      <td>NaN</td>\n",
       "    </tr>\n",
       "    <tr>\n",
       "      <th>366</th>\n",
       "      <td>a100000538</td>\n",
       "      <td>1/13/2018</td>\n",
       "      <td>Email</td>\n",
       "      <td>personalization</td>\n",
       "      <td>True</td>\n",
       "      <td>Arabic</td>\n",
       "      <td>24-30 years</td>\n",
       "      <td>1/13/2018</td>\n",
       "      <td>1/23/2018</td>\n",
       "      <td>False</td>\n",
       "    </tr>\n",
       "    <tr>\n",
       "      <th>370</th>\n",
       "      <td>a100000542</td>\n",
       "      <td>1/17/2018</td>\n",
       "      <td>Email</td>\n",
       "      <td>personalization</td>\n",
       "      <td>True</td>\n",
       "      <td>English</td>\n",
       "      <td>0-18 years</td>\n",
       "      <td>1/17/2018</td>\n",
       "      <td>2/12/2018</td>\n",
       "      <td>False</td>\n",
       "    </tr>\n",
       "    <tr>\n",
       "      <th>...</th>\n",
       "      <td>...</td>\n",
       "      <td>...</td>\n",
       "      <td>...</td>\n",
       "      <td>...</td>\n",
       "      <td>...</td>\n",
       "      <td>...</td>\n",
       "      <td>...</td>\n",
       "      <td>...</td>\n",
       "      <td>...</td>\n",
       "      <td>...</td>\n",
       "    </tr>\n",
       "    <tr>\n",
       "      <th>10015</th>\n",
       "      <td>a100007288</td>\n",
       "      <td>1/17/2018</td>\n",
       "      <td>Email</td>\n",
       "      <td>control</td>\n",
       "      <td>True</td>\n",
       "      <td>German</td>\n",
       "      <td>30-36 years</td>\n",
       "      <td>1/17/2018</td>\n",
       "      <td>4/26/2018</td>\n",
       "      <td>False</td>\n",
       "    </tr>\n",
       "    <tr>\n",
       "      <th>10016</th>\n",
       "      <td>a100007289</td>\n",
       "      <td>1/17/2018</td>\n",
       "      <td>Email</td>\n",
       "      <td>control</td>\n",
       "      <td>True</td>\n",
       "      <td>German</td>\n",
       "      <td>36-45 years</td>\n",
       "      <td>1/17/2018</td>\n",
       "      <td>1/27/2018</td>\n",
       "      <td>False</td>\n",
       "    </tr>\n",
       "    <tr>\n",
       "      <th>10017</th>\n",
       "      <td>a100007290</td>\n",
       "      <td>1/17/2018</td>\n",
       "      <td>Email</td>\n",
       "      <td>control</td>\n",
       "      <td>True</td>\n",
       "      <td>German</td>\n",
       "      <td>45-55 years</td>\n",
       "      <td>1/17/2018</td>\n",
       "      <td>1/24/2018</td>\n",
       "      <td>False</td>\n",
       "    </tr>\n",
       "    <tr>\n",
       "      <th>10018</th>\n",
       "      <td>a100007291</td>\n",
       "      <td>1/17/2018</td>\n",
       "      <td>Email</td>\n",
       "      <td>control</td>\n",
       "      <td>True</td>\n",
       "      <td>German</td>\n",
       "      <td>55+ years</td>\n",
       "      <td>1/17/2018</td>\n",
       "      <td>NaN</td>\n",
       "      <td>True</td>\n",
       "    </tr>\n",
       "    <tr>\n",
       "      <th>10020</th>\n",
       "      <td>a100007293</td>\n",
       "      <td>1/17/2018</td>\n",
       "      <td>Email</td>\n",
       "      <td>control</td>\n",
       "      <td>True</td>\n",
       "      <td>German</td>\n",
       "      <td>0-18 years</td>\n",
       "      <td>1/17/2018</td>\n",
       "      <td>NaN</td>\n",
       "      <td>True</td>\n",
       "    </tr>\n",
       "  </tbody>\n",
       "</table>\n",
       "<p>565 rows × 10 columns</p>\n",
       "</div>"
      ],
      "text/plain": [
       "          user_id date_served marketing_channel     test_control  converted  \\\n",
       "354    a100000526    1/1/2018             Email  personalization       True   \n",
       "358    a100000530    1/5/2018             Email  personalization       True   \n",
       "362    a100000534    1/9/2018             Email  personalization      False   \n",
       "366    a100000538   1/13/2018             Email  personalization       True   \n",
       "370    a100000542   1/17/2018             Email  personalization       True   \n",
       "...           ...         ...               ...              ...        ...   \n",
       "10015  a100007288   1/17/2018             Email          control       True   \n",
       "10016  a100007289   1/17/2018             Email          control       True   \n",
       "10017  a100007290   1/17/2018             Email          control       True   \n",
       "10018  a100007291   1/17/2018             Email          control       True   \n",
       "10020  a100007293   1/17/2018             Email          control       True   \n",
       "\n",
       "      language_preferred    age_group date_subscribed date_canceled  \\\n",
       "354               Arabic   0-18 years        1/1/2018           NaN   \n",
       "358               Arabic  19-24 years        1/5/2018           NaN   \n",
       "362              English  45-55 years        1/9/2018           NaN   \n",
       "366               Arabic  24-30 years       1/13/2018     1/23/2018   \n",
       "370              English   0-18 years       1/17/2018     2/12/2018   \n",
       "...                  ...          ...             ...           ...   \n",
       "10015             German  30-36 years       1/17/2018     4/26/2018   \n",
       "10016             German  36-45 years       1/17/2018     1/27/2018   \n",
       "10017             German  45-55 years       1/17/2018     1/24/2018   \n",
       "10018             German    55+ years       1/17/2018           NaN   \n",
       "10020             German   0-18 years       1/17/2018           NaN   \n",
       "\n",
       "      is_retained  \n",
       "354          True  \n",
       "358          True  \n",
       "362           NaN  \n",
       "366         False  \n",
       "370         False  \n",
       "...           ...  \n",
       "10015       False  \n",
       "10016       False  \n",
       "10017       False  \n",
       "10018        True  \n",
       "10020        True  \n",
       "\n",
       "[565 rows x 10 columns]"
      ]
     },
     "execution_count": 124,
     "metadata": {},
     "output_type": "execute_result"
    }
   ],
   "source": [
    "email = cp.loc[cp['marketing_channel']=='Email']\n",
    "email"
   ]
  },
  {
   "cell_type": "code",
   "execution_count": 126,
   "metadata": {},
   "outputs": [
    {
     "data": {
      "text/plain": [
       "test_control\n",
       "control             76\n",
       "personalization    111\n",
       "Name: user_id, dtype: int64"
      ]
     },
     "execution_count": 126,
     "metadata": {},
     "output_type": "execute_result"
    }
   ],
   "source": [
    "# Numbers of people convered in each group\n",
    "email.loc[email['converted']==True].groupby(['test_control'])['user_id'].nunique()"
   ]
  },
  {
   "cell_type": "code",
   "execution_count": 127,
   "metadata": {},
   "outputs": [
    {
     "data": {
      "text/plain": [
       "test_control\n",
       "control            0.281481\n",
       "personalization    0.390845\n",
       "Name: user_id, dtype: float64"
      ]
     },
     "execution_count": 127,
     "metadata": {},
     "output_type": "execute_result"
    }
   ],
   "source": [
    "email.loc[email['converted']==True].groupby(['test_control'])['user_id'].nunique()\\\n",
    "/email.groupby(['test_control'])['user_id'].nunique()"
   ]
  },
  {
   "cell_type": "markdown",
   "metadata": {},
   "source": [
    "**The lift:**\n",
    "\n",
    "(Test conversion rate - Control conversion rate)/Control conversion rate"
   ]
  },
  {
   "cell_type": "code",
   "execution_count": 128,
   "metadata": {},
   "outputs": [
    {
     "data": {
      "text/plain": [
       "0.38853066459192637"
      ]
     },
     "execution_count": 128,
     "metadata": {},
     "output_type": "execute_result"
    }
   ],
   "source": [
    "(0.390845-0.281481)/0.281481"
   ]
  }
 ],
 "metadata": {
  "kernelspec": {
   "display_name": "Python 3",
   "language": "python",
   "name": "python3"
  },
  "language_info": {
   "codemirror_mode": {
    "name": "ipython",
    "version": 3
   },
   "file_extension": ".py",
   "mimetype": "text/x-python",
   "name": "python",
   "nbconvert_exporter": "python",
   "pygments_lexer": "ipython3",
   "version": "3.8.3"
  }
 },
 "nbformat": 4,
 "nbformat_minor": 4
}
